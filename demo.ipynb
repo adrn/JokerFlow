{
 "cells": [
  {
   "cell_type": "code",
   "execution_count": 1,
   "metadata": {
    "collapsed": true
   },
   "outputs": [],
   "source": [
    "%matplotlib inline\n",
    "%config InlineBackend.figure_format = \"retina\"\n",
    "\n",
    "from matplotlib import rcParams\n",
    "rcParams[\"savefig.dpi\"] = 100\n",
    "rcParams[\"figure.dpi\"] = 100\n",
    "rcParams[\"font.size\"] = 20"
   ]
  },
  {
   "cell_type": "code",
   "execution_count": 2,
   "metadata": {},
   "outputs": [
    {
     "name": "stderr",
     "output_type": "stream",
     "text": [
      "/Users/dforeman/anaconda/lib/python3.6/importlib/_bootstrap.py:205: RuntimeWarning: compiletime version 3.5 of module 'tensorflow.python.framework.fast_tensor_util' does not match runtime version 3.6\n",
      "  return f(*args, **kwds)\n"
     ]
    }
   ],
   "source": [
    "import numpy as np\n",
    "import matplotlib.pyplot as plt\n",
    "\n",
    "import tensorflow as tf\n",
    "from jokerflow import kepler"
   ]
  },
  {
   "cell_type": "code",
   "execution_count": 29,
   "metadata": {},
   "outputs": [
    {
     "name": "stdout",
     "output_type": "stream",
     "text": [
      "1.58953742096e-13\n"
     ]
    }
   ],
   "source": [
    "# Check the gradients\n",
    "P_tensor = tf.constant([100.0, 50.0], dtype=tf.float64)\n",
    "M_tensor = 1.0 / P_tensor\n",
    "e_tensor = tf.constant([0.5, 0.0], dtype=tf.float64)\n",
    "E_tensor = kepler(M_tensor, e_tensor)\n",
    "with tf.Session() as sess:\n",
    "    inits = sess.run([P_tensor, e_tensor])\n",
    "    print(tf.test.compute_gradient_error(\n",
    "        [P_tensor], [(2,)], M_tensor, (2,), inits))"
   ]
  },
  {
   "cell_type": "code",
   "execution_count": 10,
   "metadata": {
    "collapsed": true
   },
   "outputs": [],
   "source": [
    "N = 5\n",
    "t = np.sort(np.random.uniform(0, 5*365, N))\n",
    "rv_err = np.random.uniform(2, 4, len(t))"
   ]
  },
  {
   "cell_type": "code",
   "execution_count": 22,
   "metadata": {},
   "outputs": [],
   "source": [
    "# Define the basic model\n",
    "T = tf.float64\n",
    "t_tensor = tf.placeholder(T, (None,))\n",
    "\n",
    "# Fit parameters\n",
    "log_K = tf.Variable(tf.constant(np.log(50.0), dtype=T))\n",
    "P = tf.Variable(tf.constant(10.0, dtype=T))\n",
    "phi_param = tf.Variable(tf.constant(0.1, dtype=T))\n",
    "e_param = tf.Variable(tf.constant(-100, dtype=T))\n",
    "omega_param = tf.Variable(tf.constant(0.5, dtype=T))\n",
    "rv0 = tf.Variable(tf.constant(100.0, dtype=T))\n",
    "params = [log_K, P, phi_param, e_param, omega_param, rv0]\n",
    "\n",
    "# Transform parameters\n",
    "K = tf.exp(log_K)\n",
    "phi = 2*np.pi / (1.0 + tf.exp(-phi_param))\n",
    "e = 1.0 / (1.0 + tf.exp(-e_param))\n",
    "omega = 2*np.pi / (1.0 + tf.exp(-omega_param))\n",
    "\n",
    "M = 2*np.pi * t_tensor / P - (phi + omega)\n",
    "E = kepler(M, e + tf.zeros_like(t_tensor))\n",
    "f = 2.0 * tf.atan2(tf.sqrt(1.0+e) * tf.tan(0.5*E), tf.sqrt(1.0-e) + tf.zeros_like(M))\n",
    "model = rv0 + K * (tf.cos(omega)*(tf.cos(f)+e)-tf.sin(omega)*tf.sin(f))"
   ]
  },
  {
   "cell_type": "code",
   "execution_count": 23,
   "metadata": {},
   "outputs": [],
   "source": [
    "with tf.Session() as session:\n",
    "    tf.global_variables_initializer().run()\n",
    "    rv_true = session.run(model, feed_dict={t_tensor: t})"
   ]
  },
  {
   "cell_type": "code",
   "execution_count": 24,
   "metadata": {},
   "outputs": [
    {
     "data": {
      "text/plain": [
       "<Container object of 3 artists>"
      ]
     },
     "execution_count": 24,
     "metadata": {},
     "output_type": "execute_result"
    },
    {
     "data": {
      "image/png": "[encoded data removed]",
      "text/plain": [
       "<matplotlib.figure.Figure at 0x182d517ef0>"
      ]
     },
     "metadata": {
      "image/png": {
       "height": 360,
       "width": 538
      }
     },
     "output_type": "display_data"
    }
   ],
   "source": [
    "rv = rv_true + rv_err * np.random.randn(len(rv_err))\n",
    "plt.errorbar(t, rv, yerr=rv_err, fmt=\".k\")"
   ]
  },
  {
   "cell_type": "code",
   "execution_count": 25,
   "metadata": {},
   "outputs": [],
   "source": [
    "rv_tensor = tf.placeholder(T, (None,))\n",
    "rv_err_tensor = tf.placeholder(T, (None,))\n",
    "\n",
    "resid2 = tf.reduce_sum(tf.square((rv_tensor - model) / rv_err))\n",
    "\n",
    "opt = tf.train.GradientDescentOptimizer(1e-8)\n",
    "step = opt.minimize(resid2)"
   ]
  },
  {
   "cell_type": "code",
   "execution_count": 26,
   "metadata": {},
   "outputs": [
    {
     "name": "stdout",
     "output_type": "stream",
     "text": [
      "3.42346292213\n",
      "(array([[ 31.63330013]]), array([[ 31.63416603]]))\n",
      "(array([[ 85.24998738]]), array([[ 37.22648612]]))\n",
      "(array([[-17.08437699]]), array([[-17.08531296]]))\n",
      "(array([[  2.28531486e-42]]), array([[ 0.]]))\n",
      "(array([[  5.24583709e-15]]), array([[ -2.39586129e-10]]))\n",
      "(array([[-0.09273788]]), array([[-0.09273788]]))\n"
     ]
    }
   ],
   "source": [
    "import tqdm\n",
    "\n",
    "with tf.Session() as session:\n",
    "    tf.global_variables_initializer().run()\n",
    "    data = {t_tensor: t, rv_tensor: rv, rv_err_tensor: rv_err}\n",
    "    print(session.run(resid2, feed_dict=data))\n",
    "    \n",
    "    inits = session.run(params)\n",
    "    shapes = list(map(np.shape, inits))\n",
    "    \n",
    "    g = tf.test.compute_gradient(\n",
    "        params, shapes, resid2, (1,), inits, extra_feed_dict=data)\n",
    "    for g in g:\n",
    "        print(g)\n",
    "    \n",
    "#     for i in tqdm.trange(100):\n",
    "#         session.run(step, feed_dict=data)\n",
    "#         print(session.run(resid2, feed_dict=data))\n"
   ]
  },
  {
   "cell_type": "code",
   "execution_count": null,
   "metadata": {
    "collapsed": true
   },
   "outputs": [],
   "source": []
  },
  {
   "cell_type": "code",
   "execution_count": null,
   "metadata": {
    "collapsed": true
   },
   "outputs": [],
   "source": []
  }
 ],
 "metadata": {
  "kernelspec": {
   "display_name": "Python 3",
   "language": "python",
   "name": "python3"
  },
  "language_info": {
   "codemirror_mode": {
    "name": "ipython",
    "version": 3
   },
   "file_extension": ".py",
   "mimetype": "text/x-python",
   "name": "python",
   "nbconvert_exporter": "python",
   "pygments_lexer": "ipython3",
   "version": "3.6.1"
  }
 },
 "nbformat": 4,
 "nbformat_minor": 2
}
