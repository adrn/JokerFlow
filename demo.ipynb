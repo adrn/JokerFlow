{
 "cells": [
  {
   "cell_type": "code",
   "execution_count": 1,
   "metadata": {
    "collapsed": true
   },
   "outputs": [],
   "source": [
    "%matplotlib inline\n",
    "%config InlineBackend.figure_format = \"retina\"\n",
    "\n",
    "from matplotlib import rcParams\n",
    "rcParams[\"savefig.dpi\"] = 100\n",
    "rcParams[\"figure.dpi\"] = 100\n",
    "rcParams[\"font.size\"] = 20"
   ]
  },
  {
   "cell_type": "code",
   "execution_count": 2,
   "metadata": {},
   "outputs": [
    {
     "name": "stderr",
     "output_type": "stream",
     "text": [
      "/Users/dforeman/anaconda/lib/python3.6/importlib/_bootstrap.py:205: RuntimeWarning: compiletime version 3.5 of module 'tensorflow.python.framework.fast_tensor_util' does not match runtime version 3.6\n",
      "  return f(*args, **kwds)\n"
     ]
    }
   ],
   "source": [
    "import numpy as np\n",
    "import matplotlib.pyplot as plt\n",
    "\n",
    "import tensorflow as tf\n",
    "from jokerflow import kepler"
   ]
  },
  {
   "cell_type": "code",
   "execution_count": 42,
   "metadata": {},
   "outputs": [
    {
     "name": "stdout",
     "output_type": "stream",
     "text": [
      "[10.0]\n",
      "1.8249995104e-07\n",
      "[  3.14159265  62.83185307]\n"
     ]
    }
   ],
   "source": [
    "# Check the gradients\n",
    "P_tensor = tf.constant(10.0, dtype=tf.float64)\n",
    "M_tensor = 2*np.pi*tf.constant([5.0, 100.0], dtype=tf.float64) / P_tensor\n",
    "e_tensor = tf.constant(10.5, dtype=tf.float64)\n",
    "ee = e_tensor + tf.zeros_like(M_tensor)\n",
    "E_tensor = kepler(M_tensor, ee)\n",
    "with tf.Session() as sess:\n",
    "    inits = sess.run([P_tensor])\n",
    "    print(inits)\n",
    "    print(tf.test.compute_gradient_error(\n",
    "        [P_tensor], [()], E_tensor, (2,), inits, 1e-8))\n",
    "    print(sess.run(E_tensor))"
   ]
  },
  {
   "cell_type": "code",
   "execution_count": null,
   "metadata": {},
   "outputs": [],
   "source": []
  },
  {
   "cell_type": "code",
   "execution_count": 17,
   "metadata": {
    "collapsed": true
   },
   "outputs": [],
   "source": [
    "N = 50\n",
    "t = np.sort(np.random.uniform(0, 5*365, N))\n",
    "rv_err = np.random.uniform(2, 4, len(t))"
   ]
  },
  {
   "cell_type": "code",
   "execution_count": 31,
   "metadata": {},
   "outputs": [],
   "source": [
    "# Define the basic model\n",
    "T = tf.float64\n",
    "t_tensor = tf.placeholder(T, (None,))\n",
    "\n",
    "# Fit parameters\n",
    "log_K = tf.Variable(tf.constant(np.log(50.0), dtype=T))\n",
    "P = tf.Variable(tf.constant(10.0, dtype=T))\n",
    "phi_param = tf.Variable(tf.constant(0.1, dtype=T))\n",
    "e_param = tf.Variable(tf.constant(0.0, dtype=T))\n",
    "omega_param = tf.Variable(tf.constant(0.5, dtype=T))\n",
    "rv0 = tf.Variable(tf.constant(100.0, dtype=T))\n",
    "params = [log_K, P, phi_param, e_param, omega_param, rv0]\n",
    "\n",
    "# Transform parameters\n",
    "K = tf.exp(log_K)\n",
    "phi = 2*np.pi / (1.0 + tf.exp(-phi_param))\n",
    "e = 1.0 / (1.0 + tf.exp(-e_param))\n",
    "omega = 2*np.pi / (1.0 + tf.exp(-omega_param))\n",
    "\n",
    "M = 2*np.pi * t_tensor / P - (phi + omega)\n",
    "E = kepler(M, e + tf.zeros_like(t_tensor))\n",
    "f = 2.0 * tf.atan2(tf.sqrt(1.0+e) * tf.tan(0.5*E), tf.sqrt(1.0-e) + tf.zeros_like(M))\n",
    "model = rv0 + K * (tf.cos(omega)*(tf.cos(f)+e)-tf.sin(omega)*tf.sin(f))"
   ]
  },
  {
   "cell_type": "code",
   "execution_count": 32,
   "metadata": {},
   "outputs": [],
   "source": [
    "with tf.Session() as session:\n",
    "    tf.global_variables_initializer().run()\n",
    "    rv_true = session.run(model, feed_dict={t_tensor: t})"
   ]
  },
  {
   "cell_type": "code",
   "execution_count": 33,
   "metadata": {},
   "outputs": [
    {
     "data": {
      "text/plain": [
       "<Container object of 3 artists>"
      ]
     },
     "execution_count": 33,
     "metadata": {},
     "output_type": "execute_result"
    },
    {
     "data": {
      "image/png": "[encoded data removed]",
      "text/plain": [
       "<matplotlib.figure.Figure at 0x1822b1b3c8>"
      ]
     },
     "metadata": {
      "image/png": {
       "height": 357,
       "width": 538
      }
     },
     "output_type": "display_data"
    }
   ],
   "source": [
    "rv = rv_true + rv_err * np.random.randn(len(rv_err))\n",
    "plt.errorbar(t, rv, yerr=rv_err, fmt=\".k\")"
   ]
  },
  {
   "cell_type": "code",
   "execution_count": 34,
   "metadata": {},
   "outputs": [],
   "source": [
    "rv_tensor = tf.placeholder(T, (None,))\n",
    "rv_err_tensor = tf.placeholder(T, (None,))\n",
    "\n",
    "resid2 = tf.reduce_sum(tf.square((rv_tensor - model) / rv_err))\n",
    "\n",
    "opt = tf.train.AdamOptimizer()\n",
    "step = opt.minimize(resid2)"
   ]
  },
  {
   "cell_type": "code",
   "execution_count": 37,
   "metadata": {},
   "outputs": [
    {
     "name": "stderr",
     "output_type": "stream",
     "text": [
      "  0%|          | 1/1000 [00:00<02:03,  8.08it/s]"
     ]
    },
    {
     "name": "stdout",
     "output_type": "stream",
     "text": [
      "46.5146531808\n"
     ]
    },
    {
     "name": "stderr",
     "output_type": "stream",
     "text": [
      "100%|██████████| 1000/1000 [00:00<00:00, 1297.71it/s]"
     ]
    },
    {
     "name": "stdout",
     "output_type": "stream",
     "text": [
      "40.3248183544\n"
     ]
    },
    {
     "name": "stderr",
     "output_type": "stream",
     "text": [
      "\n"
     ]
    }
   ],
   "source": [
    "import tqdm\n",
    "\n",
    "with tf.Session() as session:\n",
    "    tf.global_variables_initializer().run()\n",
    "    data = {t_tensor: t, rv_tensor: rv, rv_err_tensor: rv_err}\n",
    "    print(session.run(resid2, feed_dict=data))\n",
    "    \n",
    "    inits = session.run(params)\n",
    "    shapes = list(map(np.shape, inits))\n",
    "        \n",
    "    for i in tqdm.trange(1000):\n",
    "        session.run(step, feed_dict=data)\n",
    "#         print(session.run(resid2, feed_dict=data))\n",
    "    print(session.run(resid2, feed_dict=data))\n",
    "\n",
    "    param_vector = session.run(params)\n",
    "    period_result = session.run(P)"
   ]
  },
  {
   "cell_type": "code",
   "execution_count": 38,
   "metadata": {},
   "outputs": [
    {
     "data": {
      "text/plain": [
       "<Container object of 3 artists>"
      ]
     },
     "execution_count": 38,
     "metadata": {},
     "output_type": "execute_result"
    },
    {
     "data": {
      "image/png": "[encoded data removed]",
      "text/plain": [
       "<matplotlib.figure.Figure at 0x18236870f0>"
      ]
     },
     "metadata": {
      "image/png": {
       "height": 357,
       "width": 559
      }
     },
     "output_type": "display_data"
    }
   ],
   "source": [
    "plt.errorbar(t % period_result, rv, yerr=rv_err, fmt=\".k\")"
   ]
  },
  {
   "cell_type": "code",
   "execution_count": null,
   "metadata": {
    "collapsed": true
   },
   "outputs": [],
   "source": []
  },
  {
   "cell_type": "code",
   "execution_count": null,
   "metadata": {
    "collapsed": true
   },
   "outputs": [],
   "source": []
  }
 ],
 "metadata": {
  "kernelspec": {
   "display_name": "Python 3",
   "language": "python",
   "name": "python3"
  },
  "language_info": {
   "codemirror_mode": {
    "name": "ipython",
    "version": 3
   },
   "file_extension": ".py",
   "mimetype": "text/x-python",
   "name": "python",
   "nbconvert_exporter": "python",
   "pygments_lexer": "ipython3",
   "version": "3.6.1"
  }
 },
 "nbformat": 4,
 "nbformat_minor": 2
}
